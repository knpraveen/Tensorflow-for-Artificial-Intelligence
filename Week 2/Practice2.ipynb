{
 "cells": [
  {
   "cell_type": "code",
   "execution_count": 2,
   "metadata": {},
   "outputs": [
    {
     "name": "stdout",
     "output_type": "stream",
     "text": [
      "2.0.0-alpha0\n"
     ]
    }
   ],
   "source": [
    "import tensorflow as tf\n",
    "print(tf.__version__)"
   ]
  },
  {
   "cell_type": "code",
   "execution_count": 3,
   "metadata": {
    "collapsed": true
   },
   "outputs": [],
   "source": [
    "mnist = tf.keras.datasets.fashion_mnist"
   ]
  },
  {
   "cell_type": "code",
   "execution_count": 5,
   "metadata": {},
   "outputs": [
    {
     "name": "stdout",
     "output_type": "stream",
     "text": [
      "Downloading data from https://storage.googleapis.com/tensorflow/tf-keras-datasets/train-labels-idx1-ubyte.gz\n",
      "32768/29515 [=================================] - 0s 0us/step\n",
      "Downloading data from https://storage.googleapis.com/tensorflow/tf-keras-datasets/train-images-idx3-ubyte.gz\n",
      "26427392/26421880 [==============================] - 1s 0us/step\n",
      "Downloading data from https://storage.googleapis.com/tensorflow/tf-keras-datasets/t10k-labels-idx1-ubyte.gz\n",
      "8192/5148 [===============================================] - 0s 0us/step\n",
      "Downloading data from https://storage.googleapis.com/tensorflow/tf-keras-datasets/t10k-images-idx3-ubyte.gz\n",
      "4423680/4422102 [==============================] - 0s 0us/step\n"
     ]
    }
   ],
   "source": [
    "(training_images, training_labels), (test_images, test_labels) = mnist.load_data()"
   ]
  },
  {
   "cell_type": "code",
   "execution_count": 6,
   "metadata": {},
   "outputs": [
    {
     "name": "stdout",
     "output_type": "stream",
     "text": [
      "9\n",
      "[[  0   0   0   0   0   0   0   0   0   0   0   0   0   0   0   0   0   0\n",
      "    0   0   0   0   0   0   0   0   0   0]\n",
      " [  0   0   0   0   0   0   0   0   0   0   0   0   0   0   0   0   0   0\n",
      "    0   0   0   0   0   0   0   0   0   0]\n",
      " [  0   0   0   0   0   0   0   0   0   0   0   0   0   0   0   0   0   0\n",
      "    0   0   0   0   0   0   0   0   0   0]\n",
      " [  0   0   0   0   0   0   0   0   0   0   0   0   1   0   0  13  73   0\n",
      "    0   1   4   0   0   0   0   1   1   0]\n",
      " [  0   0   0   0   0   0   0   0   0   0   0   0   3   0  36 136 127  62\n",
      "   54   0   0   0   1   3   4   0   0   3]\n",
      " [  0   0   0   0   0   0   0   0   0   0   0   0   6   0 102 204 176 134\n",
      "  144 123  23   0   0   0   0  12  10   0]\n",
      " [  0   0   0   0   0   0   0   0   0   0   0   0   0   0 155 236 207 178\n",
      "  107 156 161 109  64  23  77 130  72  15]\n",
      " [  0   0   0   0   0   0   0   0   0   0   0   1   0  69 207 223 218 216\n",
      "  216 163 127 121 122 146 141  88 172  66]\n",
      " [  0   0   0   0   0   0   0   0   0   1   1   1   0 200 232 232 233 229\n",
      "  223 223 215 213 164 127 123 196 229   0]\n",
      " [  0   0   0   0   0   0   0   0   0   0   0   0   0 183 225 216 223 228\n",
      "  235 227 224 222 224 221 223 245 173   0]\n",
      " [  0   0   0   0   0   0   0   0   0   0   0   0   0 193 228 218 213 198\n",
      "  180 212 210 211 213 223 220 243 202   0]\n",
      " [  0   0   0   0   0   0   0   0   0   1   3   0  12 219 220 212 218 192\n",
      "  169 227 208 218 224 212 226 197 209  52]\n",
      " [  0   0   0   0   0   0   0   0   0   0   6   0  99 244 222 220 218 203\n",
      "  198 221 215 213 222 220 245 119 167  56]\n",
      " [  0   0   0   0   0   0   0   0   0   4   0   0  55 236 228 230 228 240\n",
      "  232 213 218 223 234 217 217 209  92   0]\n",
      " [  0   0   1   4   6   7   2   0   0   0   0   0 237 226 217 223 222 219\n",
      "  222 221 216 223 229 215 218 255  77   0]\n",
      " [  0   3   0   0   0   0   0   0   0  62 145 204 228 207 213 221 218 208\n",
      "  211 218 224 223 219 215 224 244 159   0]\n",
      " [  0   0   0   0  18  44  82 107 189 228 220 222 217 226 200 205 211 230\n",
      "  224 234 176 188 250 248 233 238 215   0]\n",
      " [  0  57 187 208 224 221 224 208 204 214 208 209 200 159 245 193 206 223\n",
      "  255 255 221 234 221 211 220 232 246   0]\n",
      " [  3 202 228 224 221 211 211 214 205 205 205 220 240  80 150 255 229 221\n",
      "  188 154 191 210 204 209 222 228 225   0]\n",
      " [ 98 233 198 210 222 229 229 234 249 220 194 215 217 241  65  73 106 117\n",
      "  168 219 221 215 217 223 223 224 229  29]\n",
      " [ 75 204 212 204 193 205 211 225 216 185 197 206 198 213 240 195 227 245\n",
      "  239 223 218 212 209 222 220 221 230  67]\n",
      " [ 48 203 183 194 213 197 185 190 194 192 202 214 219 221 220 236 225 216\n",
      "  199 206 186 181 177 172 181 205 206 115]\n",
      " [  0 122 219 193 179 171 183 196 204 210 213 207 211 210 200 196 194 191\n",
      "  195 191 198 192 176 156 167 177 210  92]\n",
      " [  0   0  74 189 212 191 175 172 175 181 185 188 189 188 193 198 204 209\n",
      "  210 210 211 188 188 194 192 216 170   0]\n",
      " [  2   0   0   0  66 200 222 237 239 242 246 243 244 221 220 193 191 179\n",
      "  182 182 181 176 166 168  99  58   0   0]\n",
      " [  0   0   0   0   0   0   0  40  61  44  72  41  35   0   0   0   0   0\n",
      "    0   0   0   0   0   0   0   0   0   0]\n",
      " [  0   0   0   0   0   0   0   0   0   0   0   0   0   0   0   0   0   0\n",
      "    0   0   0   0   0   0   0   0   0   0]\n",
      " [  0   0   0   0   0   0   0   0   0   0   0   0   0   0   0   0   0   0\n",
      "    0   0   0   0   0   0   0   0   0   0]]\n"
     ]
    }
   ],
   "source": [
    "import matplotlib.pyplot as plt\n",
    "plt.imshow(training_images[0])\n",
    "print(training_labels[0])\n",
    "print(training_images[0])"
   ]
  },
  {
   "cell_type": "code",
   "execution_count": 7,
   "metadata": {
    "collapsed": true
   },
   "outputs": [],
   "source": [
    "training_images  = training_images / 255.0\n",
    "test_images = test_images / 255.0"
   ]
  },
  {
   "cell_type": "code",
   "execution_count": 8,
   "metadata": {
    "collapsed": true
   },
   "outputs": [],
   "source": [
    "model = tf.keras.models.Sequential([tf.keras.layers.Flatten(), \n",
    "                                    tf.keras.layers.Dense(128, activation=tf.nn.relu), \n",
    "                                    tf.keras.layers.Dense(10, activation=tf.nn.softmax)])"
   ]
  },
  {
   "cell_type": "code",
   "execution_count": 11,
   "metadata": {},
   "outputs": [
    {
     "name": "stdout",
     "output_type": "stream",
     "text": [
      "Epoch 1/50\n",
      "60000/60000 [==============================] - 4s 69us/sample - loss: 0.4983 - accuracy: 0.8256\n",
      "Epoch 2/50\n",
      "60000/60000 [==============================] - 4s 66us/sample - loss: 0.3747 - accuracy: 0.8654\n",
      "Epoch 3/50\n",
      "60000/60000 [==============================] - 4s 75us/sample - loss: 0.3351 - accuracy: 0.8775\n",
      "Epoch 4/50\n",
      "60000/60000 [==============================] - 4s 71us/sample - loss: 0.3120 - accuracy: 0.8852\n",
      "Epoch 5/50\n",
      "60000/60000 [==============================] - 4s 66us/sample - loss: 0.2938 - accuracy: 0.8924\n",
      "Epoch 6/50\n",
      "60000/60000 [==============================] - 4s 64us/sample - loss: 0.2781 - accuracy: 0.8978\n",
      "Epoch 7/50\n",
      "60000/60000 [==============================] - 4s 63us/sample - loss: 0.2654 - accuracy: 0.9020\n",
      "Epoch 8/50\n",
      "60000/60000 [==============================] - 4s 70us/sample - loss: 0.2565 - accuracy: 0.9038\n",
      "Epoch 9/50\n",
      "60000/60000 [==============================] - 4s 64us/sample - loss: 0.2455 - accuracy: 0.9086\n",
      "Epoch 10/50\n",
      "60000/60000 [==============================] - 4s 62us/sample - loss: 0.2353 - accuracy: 0.9117\n",
      "Epoch 11/50\n",
      "60000/60000 [==============================] - 4s 61us/sample - loss: 0.2293 - accuracy: 0.9137\n",
      "Epoch 12/50\n",
      "60000/60000 [==============================] - 4s 67us/sample - loss: 0.2209 - accuracy: 0.9173\n",
      "Epoch 13/50\n",
      "60000/60000 [==============================] - 4s 65us/sample - loss: 0.2108 - accuracy: 0.9198\n",
      "Epoch 14/50\n",
      "60000/60000 [==============================] - 4s 64us/sample - loss: 0.2071 - accuracy: 0.9221\n",
      "Epoch 15/50\n",
      "60000/60000 [==============================] - 4s 65us/sample - loss: 0.2024 - accuracy: 0.9236\n",
      "Epoch 16/50\n",
      "60000/60000 [==============================] - 4s 69us/sample - loss: 0.1958 - accuracy: 0.9266\n",
      "Epoch 17/50\n",
      "60000/60000 [==============================] - 4s 61us/sample - loss: 0.1907 - accuracy: 0.9275\n",
      "Epoch 18/50\n",
      "60000/60000 [==============================] - 4s 62us/sample - loss: 0.1851 - accuracy: 0.9298\n",
      "Epoch 19/50\n",
      "60000/60000 [==============================] - 4s 63us/sample - loss: 0.1807 - accuracy: 0.9321\n",
      "Epoch 20/50\n",
      "60000/60000 [==============================] - 4s 67us/sample - loss: 0.1767 - accuracy: 0.9336\n",
      "Epoch 21/50\n",
      "60000/60000 [==============================] - 4s 62us/sample - loss: 0.1726 - accuracy: 0.9359\n",
      "Epoch 22/50\n",
      "60000/60000 [==============================] - 4s 62us/sample - loss: 0.1682 - accuracy: 0.9371\n",
      "Epoch 23/50\n",
      "60000/60000 [==============================] - 4s 69us/sample - loss: 0.1617 - accuracy: 0.9390\n",
      "Epoch 24/50\n",
      "60000/60000 [==============================] - 4s 74us/sample - loss: 0.1598 - accuracy: 0.9398\n",
      "Epoch 25/50\n",
      "60000/60000 [==============================] - 4s 67us/sample - loss: 0.1562 - accuracy: 0.9409\n",
      "Epoch 26/50\n",
      "60000/60000 [==============================] - 4s 63us/sample - loss: 0.1510 - accuracy: 0.9431\n",
      "Epoch 27/50\n",
      "60000/60000 [==============================] - 4s 62us/sample - loss: 0.1491 - accuracy: 0.9442\n",
      "Epoch 28/50\n",
      "60000/60000 [==============================] - 4s 67us/sample - loss: 0.1456 - accuracy: 0.9450\n",
      "Epoch 29/50\n",
      "60000/60000 [==============================] - 4s 62us/sample - loss: 0.1413 - accuracy: 0.9476\n",
      "Epoch 30/50\n",
      "60000/60000 [==============================] - 4s 65us/sample - loss: 0.1395 - accuracy: 0.9475\n",
      "Epoch 31/50\n",
      "60000/60000 [==============================] - 4s 70us/sample - loss: 0.1354 - accuracy: 0.9503\n",
      "Epoch 32/50\n",
      "60000/60000 [==============================] - 5s 79us/sample - loss: 0.1307 - accuracy: 0.9516\n",
      "Epoch 33/50\n",
      "60000/60000 [==============================] - 4s 62us/sample - loss: 0.1289 - accuracy: 0.9517\n",
      "Epoch 34/50\n",
      "60000/60000 [==============================] - 4s 62us/sample - loss: 0.1280 - accuracy: 0.9516\n",
      "Epoch 35/50\n",
      "60000/60000 [==============================] - 4s 61us/sample - loss: 0.1258 - accuracy: 0.9523\n",
      "Epoch 36/50\n",
      "60000/60000 [==============================] - 4s 68us/sample - loss: 0.1222 - accuracy: 0.9535\n",
      "Epoch 37/50\n",
      "60000/60000 [==============================] - 4s 71us/sample - loss: 0.1199 - accuracy: 0.9551\n",
      "Epoch 38/50\n",
      "60000/60000 [==============================] - 4s 69us/sample - loss: 0.1182 - accuracy: 0.9565\n",
      "Epoch 39/50\n",
      "60000/60000 [==============================] - 4s 73us/sample - loss: 0.1156 - accuracy: 0.9567\n",
      "Epoch 40/50\n",
      "60000/60000 [==============================] - 5s 76us/sample - loss: 0.1131 - accuracy: 0.9571\n",
      "Epoch 41/50\n",
      "60000/60000 [==============================] - 5s 76us/sample - loss: 0.1094 - accuracy: 0.9586\n",
      "Epoch 42/50\n",
      "60000/60000 [==============================] - 4s 69us/sample - loss: 0.1093 - accuracy: 0.9591\n",
      "Epoch 43/50\n",
      "60000/60000 [==============================] - 4s 67us/sample - loss: 0.1078 - accuracy: 0.9593\n",
      "Epoch 44/50\n",
      "60000/60000 [==============================] - 4s 73us/sample - loss: 0.1053 - accuracy: 0.9607\n",
      "Epoch 45/50\n",
      "60000/60000 [==============================] - 4s 69us/sample - loss: 0.1028 - accuracy: 0.9617\n",
      "Epoch 46/50\n",
      "60000/60000 [==============================] - 4s 70us/sample - loss: 0.1009 - accuracy: 0.9625\n",
      "Epoch 47/50\n",
      "60000/60000 [==============================] - 4s 69us/sample - loss: 0.0986 - accuracy: 0.9624\n",
      "Epoch 48/50\n",
      "60000/60000 [==============================] - 4s 73us/sample - loss: 0.0981 - accuracy: 0.9628\n",
      "Epoch 49/50\n",
      "60000/60000 [==============================] - 4s 67us/sample - loss: 0.0961 - accuracy: 0.9643\n",
      "Epoch 50/50\n",
      "60000/60000 [==============================] - 4s 75us/sample - loss: 0.0944 - accuracy: 0.9649\n"
     ]
    },
    {
     "data": {
      "text/plain": [
       "<tensorflow.python.keras.callbacks.History at 0x1ac8205f4a8>"
      ]
     },
     "execution_count": 11,
     "metadata": {},
     "output_type": "execute_result"
    }
   ],
   "source": [
    "model.compile(optimizer = 'adam',\n",
    "              loss = 'sparse_categorical_crossentropy',\n",
    "              metrics=['accuracy'])\n",
    "\n",
    "model.fit(training_images, training_labels, epochs=50)"
   ]
  }
 ],
 "metadata": {
  "kernelspec": {
   "display_name": "Python 3",
   "language": "python",
   "name": "python3"
  },
  "language_info": {
   "codemirror_mode": {
    "name": "ipython",
    "version": 3
   },
   "file_extension": ".py",
   "mimetype": "text/x-python",
   "name": "python",
   "nbconvert_exporter": "python",
   "pygments_lexer": "ipython3",
   "version": "3.6.1"
  }
 },
 "nbformat": 4,
 "nbformat_minor": 2
}
